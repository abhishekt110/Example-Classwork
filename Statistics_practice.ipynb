{
 "cells": [
  {
   "cell_type": "markdown",
   "metadata": {},
   "source": [
    "## Homework 3 "
   ]
  },
  {
   "cell_type": "markdown",
   "metadata": {},
   "source": [
    "Problem 1)\n",
    "\n",
    "We know that the probability to beome infected after exposure is 0.5. We also know that the probability to become infected after the vaccine is 0.1. \n",
    "\n",
    "We need to find the N, the number of pigs in the control and the treatment arms (2 different populations). \n",
    "Then we need to ensure that it is 90% chance of seeing a difference that is significant α = 0.05 level. "
   ]
  },
  {
   "cell_type": "code",
   "execution_count": 1,
   "metadata": {},
   "outputs": [],
   "source": [
    "p_c = 0.5 # prbability to become infected after exposure\n",
    "p_v = 0.1 # probability to become infected after vaccine\n",
    "α = 0.05 # statistical significance, it will be significant if p < α\n"
   ]
  },
  {
   "cell_type": "markdown",
   "metadata": {},
   "source": [
    "N = the total number of pigs\n",
    "\n",
    "N_c = control pig group\n",
    "\n",
    "N_v = vaccinated pig group \n",
    "\n",
    "N = N_c + N_v\n",
    "\n",
    "Y_1 = outcome under treatment with vaccine\n",
    "\n",
    "Y_0 = outcome under no treatment \n",
    "\n",
    "if W_i = 1, pig randomly receives vaccine\n",
    "\n",
    "if W_i = 0, pig does not randomly receive vaccine\n",
    "\n",
    "Use difference in means statistical approach.\n",
    "\n",
    "mean(treatment) - mean(control)/pooled estimate of SD of difference of means"
   ]
  },
  {
   "cell_type": "code",
   "execution_count": 2,
   "metadata": {},
   "outputs": [],
   "source": [
    "#Working off the permutations notebook \n",
    "import numpy as np\n",
    "import matplotlib.pyplot as plt\n",
    "np.set_printoptions(precision=4) # adjust number length\n",
    "# potential arrays \n",
    "control = np.array([0, 1, 1, 1, 0, 0, 0, 0, 0, 0, 0, 0, 0]) # 1 for recovered\n",
    "treatment = np.array([0, 0, 0, 1, 1, 1, 1, 1, 0, 0, 0, 1, 1, 1, 1, 0, 1])"
   ]
  },
  {
   "cell_type": "markdown",
   "metadata": {},
   "source": [
    "Problem 2\n",
    "\n",
    "???\n"
   ]
  }
 ],
 "metadata": {
  "kernelspec": {
   "display_name": "Python 3",
   "language": "python",
   "name": "python3"
  },
  "language_info": {
   "codemirror_mode": {
    "name": "ipython",
    "version": 3
   },
   "file_extension": ".py",
   "mimetype": "text/x-python",
   "name": "python",
   "nbconvert_exporter": "python",
   "pygments_lexer": "ipython3",
   "version": "3.8.5"
  }
 },
 "nbformat": 4,
 "nbformat_minor": 4
}
