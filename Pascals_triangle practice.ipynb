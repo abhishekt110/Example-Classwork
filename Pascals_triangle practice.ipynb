{
 "cells": [
  {
   "cell_type": "markdown",
   "metadata": {},
   "source": [
    "# Homework 01 - Abhishek Thakar\n",
    "Problem 1\n"
   ]
  },
  {
   "cell_type": "code",
   "execution_count": null,
   "metadata": {},
   "outputs": [],
   "source": [
    "# Create a class binomial_coefficients that computes bionomial coefficients using Pascal's rule.\n",
    "# want to add from previous row\n",
    "\n",
    "class binomial_coefficient:\n",
    "    \"\"\"Generates the row of elements in the nth row, returns the element in nth row and column k, and saves the Pascal's triangle with n+1 lines as a text file formatted appropriately.\"\"\"\n",
    "    def __init__(self): #How are we storing this Pascal's triangle? As a nested list data format.\n",
    "        \n",
    "        self.bc = [[1]]\n",
    "        self.n = 0\n",
    "    \n",
    "    def add_line(self):\n",
    "        # We want to create a list of the right size and correct elements\n",
    "        new_line = [1]*(self.n + 2)\n",
    "        #Performing recursion on each element\n",
    "        for j in range(1, self.n + 1):\n",
    "            new_line[j] = self.bc[self.n][j - 1] + self.bc[self.n][j]\n",
    "        #Have to update the internal data structure \n",
    "        self.bc.append(new_line)\n",
    "        self.n += 1\n",
    "    \n",
    "    def get_n(self, n):\n",
    "        if n > self.n:\n",
    "            for i in range(self.n + 1, n + 1):\n",
    "                self.add_line()\n",
    "            return self.bc[n]\n",
    "        \n",
    "    def get_nk(self, n, k):\n",
    "        # Want the combination of n and k so must define range\n",
    "        line = self.get_n(n) \n",
    "        return line[k] \n",
    "    \n",
    "    def save_pt(self):\n",
    "        with  open('Pascals_triangle.txt') as f:\n",
    "            lines = self._format()\n",
    "            for line in lines:\n",
    "                f.write(line + '\\n')       \n",
    "#Feel like this should work or is atleast on the right track.\n"
   ]
  },
  {
   "cell_type": "code",
   "execution_count": null,
   "metadata": {},
   "outputs": [],
   "source": [
    "\n"
   ]
  },
  {
   "cell_type": "markdown",
   "metadata": {},
   "source": [
    "Problem 2"
   ]
  },
  {
   "cell_type": "code",
   "execution_count": 10,
   "metadata": {},
   "outputs": [
    {
     "name": "stdout",
     "output_type": "stream",
     "text": [
      "1685\n"
     ]
    },
    {
     "ename": "NameError",
     "evalue": "name 'sampleList' is not defined",
     "output_type": "error",
     "traceback": [
      "\u001b[1;31m---------------------------------------------------------------------------\u001b[0m",
      "\u001b[1;31mNameError\u001b[0m                                 Traceback (most recent call last)",
      "\u001b[1;32m<ipython-input-10-8a395ae25403>\u001b[0m in \u001b[0;36m<module>\u001b[1;34m\u001b[0m\n\u001b[0;32m     32\u001b[0m         \u001b[0mbody_site_dict\u001b[0m\u001b[1;33m[\u001b[0m\u001b[0mbodySite\u001b[0m\u001b[1;33m]\u001b[0m \u001b[1;33m=\u001b[0m \u001b[0msampleList\u001b[0m\u001b[1;33m\u001b[0m\u001b[1;33m\u001b[0m\u001b[0m\n\u001b[0;32m     33\u001b[0m     \u001b[1;32melse\u001b[0m\u001b[1;33m:\u001b[0m\u001b[1;33m\u001b[0m\u001b[1;33m\u001b[0m\u001b[0m\n\u001b[1;32m---> 34\u001b[1;33m         \u001b[0msampleList\u001b[0m\u001b[1;33m[\u001b[0m\u001b[0mbodySite\u001b[0m\u001b[1;33m]\u001b[0m \u001b[1;33m=\u001b[0m \u001b[1;33m[\u001b[0m\u001b[0msampleID\u001b[0m\u001b[1;33m]\u001b[0m\u001b[1;33m\u001b[0m\u001b[1;33m\u001b[0m\u001b[0m\n\u001b[0m\u001b[0;32m     35\u001b[0m     \u001b[0mln\u001b[0m \u001b[1;33m=\u001b[0m \u001b[0mf\u001b[0m\u001b[1;33m.\u001b[0m\u001b[0mreadline\u001b[0m\u001b[1;33m(\u001b[0m\u001b[1;33m)\u001b[0m\u001b[1;33m\u001b[0m\u001b[1;33m\u001b[0m\u001b[0m\n\u001b[0;32m     36\u001b[0m \u001b[1;33m\u001b[0m\u001b[0m\n",
      "\u001b[1;31mNameError\u001b[0m: name 'sampleList' is not defined"
     ]
    },
    {
     "name": "stdout",
     "output_type": "stream",
     "text": [
      "1685\n"
     ]
    },
    {
     "ename": "NameError",
     "evalue": "name 'sampleList' is not defined",
     "output_type": "error",
     "traceback": [
      "\u001b[1;31m---------------------------------------------------------------------------\u001b[0m",
      "\u001b[1;31mNameError\u001b[0m                                 Traceback (most recent call last)",
      "\u001b[1;32m<ipython-input-10-8a395ae25403>\u001b[0m in \u001b[0;36m<module>\u001b[1;34m\u001b[0m\n\u001b[0;32m     32\u001b[0m         \u001b[0mbody_site_dict\u001b[0m\u001b[1;33m[\u001b[0m\u001b[0mbodySite\u001b[0m\u001b[1;33m]\u001b[0m \u001b[1;33m=\u001b[0m \u001b[0msampleList\u001b[0m\u001b[1;33m\u001b[0m\u001b[1;33m\u001b[0m\u001b[0m\n\u001b[0;32m     33\u001b[0m     \u001b[1;32melse\u001b[0m\u001b[1;33m:\u001b[0m\u001b[1;33m\u001b[0m\u001b[1;33m\u001b[0m\u001b[0m\n\u001b[1;32m---> 34\u001b[1;33m         \u001b[0msampleList\u001b[0m\u001b[1;33m[\u001b[0m\u001b[0mbodySite\u001b[0m\u001b[1;33m]\u001b[0m \u001b[1;33m=\u001b[0m \u001b[1;33m[\u001b[0m\u001b[0msampleID\u001b[0m\u001b[1;33m]\u001b[0m\u001b[1;33m\u001b[0m\u001b[1;33m\u001b[0m\u001b[0m\n\u001b[0m\u001b[0;32m     35\u001b[0m     \u001b[0mln\u001b[0m \u001b[1;33m=\u001b[0m \u001b[0mf\u001b[0m\u001b[1;33m.\u001b[0m\u001b[0mreadline\u001b[0m\u001b[1;33m(\u001b[0m\u001b[1;33m)\u001b[0m\u001b[1;33m\u001b[0m\u001b[1;33m\u001b[0m\u001b[0m\n\u001b[0;32m     36\u001b[0m \u001b[1;33m\u001b[0m\u001b[0m\n",
      "\u001b[1;31mNameError\u001b[0m: name 'sampleList' is not defined"
     ]
    }
   ],
   "source": [
    "# Determine number of samples available for just the first visit\n",
    "# For each body site, create a file that contains the ids of the samples from that body site.\n",
    "# The file name should contain the name of the body site\n",
    "\n",
    "\n",
    "#PSEUDO CODE: How I think I should approach the task. \n",
    "# Split each line by a tab delimiter \n",
    "# Iterate only through the specific column for visits_no\n",
    "# Check for int value of 1 \n",
    "# If value is  == 1 then increment count\n",
    "# If value is != 1 then move to next line. \n",
    "\n",
    "\n",
    "#Open the file to be worked on and then use .split to split by columns with the tab delimiter! \n",
    "file = open('v13_map_uniquebyPSN.txt', 'r')\n",
    "data = file.read() #Reads the entire content of the file\n",
    "data = data.split('\\t') #Creates a list of the entire file and removes the delimiter (tab)\n",
    "count = data.count('1') # Counts the individual times '1' appears since it is an integer in a list\n",
    "print(count) #print value\n",
    "file.close()\n",
    "#There is likely a way to only run the loop through the appropriate column.\n",
    "\n",
    "\n",
    "# After thinking about it during the office hours \n",
    "f = open('v13_map_uniquebyPSN.txt')\n",
    "body_site_dict = {} # We are creating a dictionary for the sample ID and bodysite. \n",
    "ln = f.readline()\n",
    "ln = f.readline() #Using f.readline we can skip the first line. \n",
    "while ln: \n",
    "    row = ln.split('\\t')\n",
    "    sampleID = row[0]\n",
    "    bodySite = row[5]\n",
    "    if bodySite in body_site_dict:\n",
    "        sampleList = body_site_dict[bodySite]\n",
    "        sampleList.append(sampleID)\n",
    "        body_site_dict[bodySite] = sampleList\n",
    "    else:\n",
    "        sampleList[bodySite] = [sampleID]\n",
    "    ln = f.readline() \n",
    "  \n",
    "\n",
    "\n"
   ]
  },
  {
   "cell_type": "code",
   "execution_count": null,
   "metadata": {},
   "outputs": [],
   "source": []
  },
  {
   "cell_type": "code",
   "execution_count": null,
   "metadata": {},
   "outputs": [],
   "source": []
  },
  {
   "cell_type": "code",
   "execution_count": null,
   "metadata": {},
   "outputs": [],
   "source": []
  }
 ],
 "metadata": {
  "kernelspec": {
   "display_name": "Python 3",
   "language": "python",
   "name": "python3"
  },
  "language_info": {
   "codemirror_mode": {
    "name": "ipython",
    "version": 3
   },
   "file_extension": ".py",
   "mimetype": "text/x-python",
   "name": "python",
   "nbconvert_exporter": "python",
   "pygments_lexer": "ipython3",
   "version": "3.8.5"
  }
 },
 "nbformat": 4,
 "nbformat_minor": 2
}
