{
 "cells": [
  {
   "cell_type": "code",
   "execution_count": 8,
   "metadata": {},
   "outputs": [],
   "source": [
    "import numpy as np\n",
    "import scipy.stats as sps\n",
    "import matplotlib.pyplot as plt\n",
    "import random \n",
    "#Create function to simulate mutations during PCR\n",
    "# Length of sequence is L=100 bp\n",
    "# Each PCR cycle (c), the number of sequences increases (n=1 at t=0, then double, etc)\n",
    "# Total number of cycles is 13 (c = 13)\n",
    "# Each base pair is copied correctly with a P(a = a) = 1-u or replaced with probability μ; \n",
    "# all possible substitutions occur at equal u/3;three values of μ: 10^-4 , 10^-3 , and 10^-2\n",
    "#Determine the expected number of distinct sequences at the end of the PCR. \n",
    "#Visualize the distribution of relative abundances of these sequences. \n",
    "#Compute the effective number of sequences using the def based on entropy & Simpson’s index.\n",
    "\n",
    "#Create a random string of DNA length of 100 bp\n",
    "\n",
    "def generate_dna(N, bases = 'ACGT'): #create a dna sequence (N) function dependent on length\n",
    "    return ''.join([random.choice(bases) for i in range(N)]) # joins empty string "
   ]
  },
  {
   "cell_type": "code",
   "execution_count": 11,
   "metadata": {},
   "outputs": [
    {
     "name": "stdout",
     "output_type": "stream",
     "text": [
      "ATGCGCACCGCTAACTAGAGGAAGTCACGTGTTATGGGCTACGCCTACCCTCGCTGCTGTACCGTATGAGATGAGTACAATTCTTCATAATTAAGGGAAC\n"
     ]
    }
   ],
   "source": [
    "dna1 = generate_dna(100) # created first generation of dna to work from\n",
    "print(dna1)"
   ]
  },
  {
   "cell_type": "code",
   "execution_count": 152,
   "metadata": {},
   "outputs": [
    {
     "ename": "IndentationError",
     "evalue": "expected an indented block (<ipython-input-152-be7b39e38c44>, line 33)",
     "output_type": "error",
     "traceback": [
      "\u001b[0;36m  File \u001b[0;32m\"<ipython-input-152-be7b39e38c44>\"\u001b[0;36m, line \u001b[0;32m33\u001b[0m\n\u001b[0;31m    def count_bases(N):\u001b[0m\n\u001b[0m                       ^\u001b[0m\n\u001b[0;31mIndentationError\u001b[0m\u001b[0;31m:\u001b[0m expected an indented block\n"
     ]
    }
   ],
   "source": [
    "# now we need to amplify the function like pcr \n",
    "\n",
    "def amplify_dna(N, cycles): # what sequences are we amplifying & mutating and how many cycles\n",
    "    for j in range(0,cycles+1): #How many copies exist after each cycle\n",
    "        number = []\n",
    "        if cycles == 0:# establishing the parent DNA strand\n",
    "            number.append(1) # if no PCR is run, only one copy exists\n",
    "            return N \n",
    "        else:\n",
    "            copies = 2**(j) # simple growth of copies per cycle\n",
    "        number.append(copies)#adding how many copies should be present per generation\n",
    "    return number #Checking to make sure the total number of copies is 8192\n",
    "\n",
    "total_pcr = amplify_dna(dna1, 13)\n",
    "\n",
    "pcr_dna_list = [] # empty list of all correct PCR DNA copies\n",
    "for i in range(total_pcr[0]+1):\n",
    "    pcr_dna_list.append(dna1) # created list of 8192 copies of the same dna\n",
    "    \n",
    "\n",
    "def mutate_dna(N, prob): # Run through each nucleotide for each sequence with given probability \n",
    "    for i in pcr_dna_list[1:]: #skip the first sequence\n",
    "        for base in i: # We want to replace each base with the other 3 at the mutation rate\n",
    "            if base == 'A':\n",
    "\n",
    "#Unclear how to proceed.\n",
    "# I can create copies of mutated dna, but this does not use the given probabilities.\n",
    "# I have to figure out a way to incorporate changing the base if it meets certain probabilities\n",
    "# could use random.choices and randomly generate a number to see whether it falls between \n",
    "# some ranges to see whether a letter can be changed. \n",
    "# Once created, I can create a basic frequency of all the bases seen below\n",
    "\n",
    "#Then have to use mpl to visualize the histogram plot of the frequencies\n",
    "\n",
    "#Feel like I might be on the right track? #possibly have to use numpy for better arrays \n",
    "\n",
    "def count_bases(N):\n",
    "    counts = {'A': 0, 'T': 0, 'C': 0, 'G': 0}\n",
    "    for i in pcr_dna_list:\n",
    "        counts[base] += 1\n",
    "    return counts\n",
    "\n",
    "def frequencies(N):\n",
    "    counts = count_bases(N)\n",
    "    return {base: count/len(N)}"
   ]
  },
  {
   "cell_type": "code",
   "execution_count": null,
   "metadata": {},
   "outputs": [],
   "source": []
  },
  {
   "cell_type": "code",
   "execution_count": null,
   "metadata": {},
   "outputs": [],
   "source": []
  },
  {
   "cell_type": "code",
   "execution_count": null,
   "metadata": {},
   "outputs": [],
   "source": []
  },
  {
   "cell_type": "code",
   "execution_count": null,
   "metadata": {},
   "outputs": [],
   "source": []
  }
 ],
 "metadata": {
  "kernelspec": {
   "display_name": "Python 3",
   "language": "python",
   "name": "python3"
  },
  "language_info": {
   "codemirror_mode": {
    "name": "ipython",
    "version": 3
   },
   "file_extension": ".py",
   "mimetype": "text/x-python",
   "name": "python",
   "nbconvert_exporter": "python",
   "pygments_lexer": "ipython3",
   "version": "3.8.5"
  }
 },
 "nbformat": 4,
 "nbformat_minor": 4
}
