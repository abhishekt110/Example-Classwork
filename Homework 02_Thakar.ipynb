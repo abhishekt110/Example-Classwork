{
 "cells": [
  {
   "cell_type": "markdown",
   "metadata": {},
   "source": [
    "# Problem 1"
   ]
  },
  {
   "cell_type": "code",
   "execution_count": 72,
   "metadata": {},
   "outputs": [],
   "source": [
    "import pickle\n",
    "with open('C:/Users/Shaq/Downloads/BF 550 Foundations of Programming, Data Analytics, and Machine Learning in Python/week03lecture_files/oil.dat', 'rb') as f:\n",
    "    op = pickle.load(f) # Have loaded the oil price\n",
    "t = list(range(len(op))) # The time range for the oil price\n",
    "import matplotlib.pyplot as plt # Have to load plotting library in matplotlib\n",
    "\n",
    "plt.style.use('default') # check how the first plot looks like in different styles\n",
    "\n",
    "graph = plt.figure(num='simple_line_plot', figsize=(20,10), dpi=200) #Changing some parameters, not totally clear on visualizing dpi and appropriate fig size.)\n",
    "\n",
    "#Need to add axes to plot\n",
    "ax = graph.add_subplot(1,1,1) \n",
    "ax.plot(t, op, linestyle='', marker ='.', markerfacecolor='None', markeredgecolor='black', label='Oil Price')\n",
    "# make plot\n",
    "ax.legend(loc='upper right', fontsize=16, ncol=2) #Changng the location and font size of the label \n",
    "ax.set_title('Oil Prices: 2013-2018', fontsize=24) #Adding the title and changin fontsize \n",
    "ax.set(xlabel='Time',ylabel='Oil Price ($)') # Adding axis titles\n",
    "#Add a zoom in (inset) to identify drop in price\n",
    "axi = graph.add_axes([0.4, 0.51, 0.2, 0.15]) # lower left corner, width, height\n",
    "axi.plot(t, op, alpha=0.5) # transparency\n",
    "axi.set_xlim([500, 800]) # establish range of x-axis in inset\n",
    "axi.set_ylim([25, 50]) # y-axis of inset range\n",
    "axi.set_title('inset')\n",
    "axi.annotate('drop in price', xy=(600,30), xytext = (670,35), arrowprops=dict(arrowstyle='->', color='black', connectionstyle='angle3,angleA=0,angleB=-90'))\n",
    "graph.savefig('Oil Price Graph.tif') #Save the graph\n",
    "plt.close(graph)\n",
    "\n"
   ]
  },
  {
   "cell_type": "markdown",
   "metadata": {},
   "source": [
    "# Problem 2"
   ]
  },
  {
   "cell_type": "code",
   "execution_count": 71,
   "metadata": {},
   "outputs": [
    {
     "ename": "UnpicklingError",
     "evalue": "invalid load key, '#'.",
     "output_type": "error",
     "traceback": [
      "\u001b[1;31m---------------------------------------------------------------------------\u001b[0m",
      "\u001b[1;31mUnpicklingError\u001b[0m                           Traceback (most recent call last)",
      "\u001b[1;32m<ipython-input-71-a01aad50b121>\u001b[0m in \u001b[0;36m<module>\u001b[1;34m\u001b[0m\n\u001b[0;32m      1\u001b[0m \u001b[1;32mimport\u001b[0m \u001b[0mpickle\u001b[0m\u001b[1;33m\u001b[0m\u001b[1;33m\u001b[0m\u001b[0m\n\u001b[0;32m      2\u001b[0m \u001b[1;32mwith\u001b[0m \u001b[0mopen\u001b[0m\u001b[1;33m(\u001b[0m\u001b[1;34m'C:/Users/Shaq/Downloads/BF 550 Foundations of Programming, Data Analytics, and Machine Learning in Python/v13_map_uniquebyPSN.txt'\u001b[0m\u001b[1;33m,\u001b[0m \u001b[1;34m'rb'\u001b[0m\u001b[1;33m)\u001b[0m \u001b[1;32mas\u001b[0m \u001b[0mfile\u001b[0m\u001b[1;33m:\u001b[0m\u001b[1;33m\u001b[0m\u001b[1;33m\u001b[0m\u001b[0m\n\u001b[1;32m----> 3\u001b[1;33m     \u001b[0mgenome\u001b[0m \u001b[1;33m=\u001b[0m \u001b[0mpickle\u001b[0m\u001b[1;33m.\u001b[0m\u001b[0mload\u001b[0m\u001b[1;33m(\u001b[0m\u001b[0mfile\u001b[0m\u001b[1;33m)\u001b[0m\u001b[1;33m\u001b[0m\u001b[1;33m\u001b[0m\u001b[0m\n\u001b[0m",
      "\u001b[1;31mUnpicklingError\u001b[0m: invalid load key, '#'."
     ]
    }
   ],
   "source": [
    "import matplotlib.pyplot as plt\n",
    "f = open('v13_map_uniquebyPSN.txt')\n",
    "body_site_dict_male = {} #We are separating the genders into two separate dictionaries\n",
    "body_site_dict_female = {} \n",
    "#Similar to before, problem 2 homework. \n",
    "ln = f.readline()\n",
    "ln = f.readline()# skipping the first line\n",
    "while ln: #Use a while loop\n",
    "    row = ln.split('\\t') #Delimiter is tab\n",
    "    sampleID = row[0] #first index refers to sample ID and so on\n",
    "    bodySite = row[5] \n",
    "    gender = row[3]\n",
    "    if gender == 'male': #establish a male female loop\n",
    "        if bodySite in body_site_dict:\n",
    "            sampleList = body_site_dict[bodySite]\n",
    "            sampleList.append(sampleID)\n",
    "            body_site_dict[bodySite] = sampleList\n",
    "        else:\n",
    "            sampleList[bodySite] = [sampleID]\n",
    "    if gender == 'female':\n",
    "        ## same as above but for female dictionary\n",
    "    ln = f.readline() \n",
    "\n",
    "bar_numsamples = plt.figure()\n",
    "ax = bar_numsamples.add_subplot(2, 2, 2)\n",
    "bar_width = 0.5\n",
    "\n",
    "bar1 = plt.bar(Body_sites_list, female_numsamples, bar_width, color='blue', label='F')\n",
    "\n",
    "bar2 = plt.bar(Body_sites_list, male_numsamples, bar_width, color='pink', label='M')\n",
    "\n",
    "ax.set_ylabel('# of Samples')\n",
    "\n",
    "ax.set_xlabel('Tissue Site');\n",
    "   "
   ]
  },
  {
   "cell_type": "markdown",
   "metadata": {},
   "source": [
    "# Problem 3"
   ]
  },
  {
   "cell_type": "code",
   "execution_count": null,
   "metadata": {},
   "outputs": [],
   "source": [
    "#Not able to to code this problem but thought this through\n",
    "\n",
    "file = open('ecoli_genome.fasta')\n",
    "\n",
    "#The random walk over 200 consecutive walks, each starting where the other left off, this means the position needs to change/be updated after each iteration   \n",
    "ip = 0 #initial position\n",
    "position = ecoligenome[ip:] #Update the start of the index with each iteration, so update ip in loop?\n",
    "displaced_list= []\n",
    "for bp in range(200): # 200 iterations\n",
    "    k = 0\n",
    "    for move in range(100): # Makes each walk 100 steps? \n",
    "        if bp == 'A' or bp == 'T': #You know for these base pairs you add one\n",
    "            k +=1 \n",
    "        else:\n",
    "            k -=1\n",
    "        position += 1\n",
    "        ip = k #Would this update the intial position to k? \n",
    "    displaced_list.append(k)\n",
    "print(displaced_list)\n",
    "\n",
    "#not sure how to update index and actually utilize matplotlib. #have trouble opening files and pulling data"
   ]
  }
 ],
 "metadata": {
  "kernelspec": {
   "display_name": "Python 3",
   "language": "python",
   "name": "python3"
  },
  "language_info": {
   "codemirror_mode": {
    "name": "ipython",
    "version": 3
   },
   "file_extension": ".py",
   "mimetype": "text/x-python",
   "name": "python",
   "nbconvert_exporter": "python",
   "pygments_lexer": "ipython3",
   "version": "3.7.4"
  }
 },
 "nbformat": 4,
 "nbformat_minor": 2
}
